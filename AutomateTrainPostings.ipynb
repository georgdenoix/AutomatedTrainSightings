{
 "cells": [
  {
   "cell_type": "markdown",
   "id": "5c174b66-6c1b-498b-8013-55d6b98f0310",
   "metadata": {},
   "source": [
    "# Posting to Facebook"
   ]
  },
  {
   "cell_type": "markdown",
   "id": "7b324db0-2101-44fa-adbb-92db9cc1aade",
   "metadata": {},
   "source": [
    "## Setup"
   ]
  },
  {
   "cell_type": "markdown",
   "id": "21c976b7-8f86-4259-8866-018266d26119",
   "metadata": {},
   "source": [
    "Link to instructions: \n",
    "- Setup access token: https://www.jcchouinard.com/facebook-graph-api-get-access-token/\n",
    "- Use Python API: https://www.jcchouinard.com/post-to-groups-using-facebook-graph-api-python/\n",
    "\n",
    "Application name: post-train-observation\n",
    "\n",
    "Facebook account: mtltrainovservations@gmail.com\n",
    "\n",
    "Facebook group Automated Train Sightings: https://www.facebook.com/groups/911280816909637\n"
   ]
  },
  {
   "cell_type": "markdown",
   "id": "f9bac550-7877-4489-8993-e9d08c9a39b9",
   "metadata": {},
   "source": [
    "Access Token for: \n",
    "1081477952518923 : post-train-observation\n",
    "user_photos, user_videos, user_posts, public_profile\n",
    "\n",
    "\n",
    "EAAPXmTUxOwsBAEBkI4iZCR40JhM8i6vFgLKCUa4PZBvjlfbpGU6QVJkLEURiZBaizU1kZCoqDYZCVyT7XSRVdCSCqKnOZCK3rMxk3XNKqufnAZBg4lLDr0MNDL8Vp0UTg6EHBn8OoL9OuYL7vBKKaKAX5gwWXpRcoNnDbxu2oS5FH7kAyMdQzjg"
   ]
  },
  {
   "cell_type": "code",
   "execution_count": 2,
   "id": "7d37a525-8c3c-40d5-add3-28628307220a",
   "metadata": {},
   "outputs": [],
   "source": [
    "import json\n",
    "from facebook import GraphAPI\n",
    "import facebook as fb\n",
    "import os, requests\n",
    " \n",
    "def read_creds(filename):\n",
    "    '''\n",
    "    Store API credentials in a safe place.\n",
    "    If you use Git, make sure to add the file to .gitignore\n",
    "    '''\n",
    "    with open(filename) as f:\n",
    "        credentials = json.load(f)\n",
    "    return credentials"
   ]
  },
  {
   "cell_type": "markdown",
   "id": "1ccf067a-38dd-44fb-9d1d-d3adf1246167",
   "metadata": {},
   "source": [
    "# Post picture on page\n",
    "https://www.facebook.com/profile.php?id=100088885020906"
   ]
  },
  {
   "cell_type": "code",
   "execution_count": 3,
   "id": "57cb0c22-66fe-4dbd-8c0f-d61dab38571b",
   "metadata": {},
   "outputs": [
    {
     "data": {
      "text/plain": [
       "{'access_token': 'EAAIK30q7iXgBAGpFqk1w55IBcUwrJ0uLxwG35Fs5pVg1wTdrE4rZB5d9lYOMIjJmVYJH0LuU8DGnqQWOZBuOvoVLa3LABxxyfMIpd1PspxLvH6m1Hdor6gCidUqJzhUe1XJhhlk0OtKiVlyggzSXSY9B9zZBO9w6IWCWTIp0xQGL28xiwrS'}"
      ]
     },
     "execution_count": 3,
     "metadata": {},
     "output_type": "execute_result"
    }
   ],
   "source": [
    "page_credentials = read_creds('page_credentials.json')\n",
    "page_credentials"
   ]
  },
  {
   "cell_type": "code",
   "execution_count": 4,
   "id": "efada9e9-5173-49f9-9d17-daee978ed729",
   "metadata": {},
   "outputs": [],
   "source": [
    "page_graph = GraphAPI(access_token=page_credentials['access_token'])"
   ]
  },
  {
   "cell_type": "code",
   "execution_count": 5,
   "id": "f3be1720-b4b3-4a89-9807-ce0b72b7483f",
   "metadata": {},
   "outputs": [
    {
     "data": {
      "text/plain": [
       "<facebook.GraphAPI at 0x261f6e39030>"
      ]
     },
     "execution_count": 5,
     "metadata": {},
     "output_type": "execute_result"
    }
   ],
   "source": [
    "page_graph"
   ]
  },
  {
   "cell_type": "code",
   "execution_count": null,
   "id": "40891ce2-13cf-4b28-ae8f-42758b50ec6d",
   "metadata": {},
   "outputs": [],
   "source": [
    "page_graph.put_object??"
   ]
  },
  {
   "cell_type": "code",
   "execution_count": 16,
   "id": "ca6aa10b-5d4c-4c04-9757-592f44f85c39",
   "metadata": {},
   "outputs": [],
   "source": [
    "root_folder = 'C:\\\\Users\\\\georg\\\\Pictures\\\\TrainDetector\\\\results\\\\media\\\\train\\\\'\n",
    "image_location = os.path.join(root_folder, '3378', '2023-04-01', '3378_2023-04-01_12h05_00_0.jpg')\n",
    "video_location = os.path.join(root_folder, '3378', '2023-04-01', '3378_2023-04-01_12h05_00.mp4')\n",
    "image_file = open(image_location, \"rb\").read()\n",
    "video_file = open(video_location, \"rb\").read()"
   ]
  },
  {
   "cell_type": "code",
   "execution_count": 8,
   "id": "a388b59c-6952-4b08-af8e-327bb5a56210",
   "metadata": {},
   "outputs": [],
   "source": [
    "ret = page_graph.put_photo(open(image_location, \"rb\"), message = 'automated picture post')"
   ]
  },
  {
   "cell_type": "code",
   "execution_count": 18,
   "id": "87474b9c-1113-41d5-b045-6de310ccebce",
   "metadata": {},
   "outputs": [],
   "source": [
    "# Construct the Graph API endpoint URL for video uploads\n",
    "endpoint_url = f\"https://graph.facebook.com/v12.0/me/videos?access_token={page_credentials['access_token']}\""
   ]
  },
  {
   "cell_type": "code",
   "execution_count": 19,
   "id": "07c9c8d7-cb14-499c-b2a0-91d6fca55d23",
   "metadata": {},
   "outputs": [
    {
     "data": {
      "text/plain": [
       "'https://graph.facebook.com/v12.0/me/videos?access_token=EAAIK30q7iXgBAGpFqk1w55IBcUwrJ0uLxwG35Fs5pVg1wTdrE4rZB5d9lYOMIjJmVYJH0LuU8DGnqQWOZBuOvoVLa3LABxxyfMIpd1PspxLvH6m1Hdor6gCidUqJzhUe1XJhhlk0OtKiVlyggzSXSY9B9zZBO9w6IWCWTIp0xQGL28xiwrS'"
      ]
     },
     "execution_count": 19,
     "metadata": {},
     "output_type": "execute_result"
    }
   ],
   "source": [
    "endpoint_url"
   ]
  },
  {
   "cell_type": "code",
   "execution_count": 20,
   "id": "79953215-b508-42a1-aff9-92d138bd4335",
   "metadata": {},
   "outputs": [],
   "source": [
    "# Open the video file in binary mode\n",
    "with open(video_location, 'rb') as video_file:\n",
    "    # Create a POST request with the video file\n",
    "    response = requests.post(endpoint_url, files={'source': video_file})"
   ]
  },
  {
   "cell_type": "code",
   "execution_count": 21,
   "id": "a486902c-a8ea-408d-a337-30d681415d5d",
   "metadata": {},
   "outputs": [],
   "source": [
    "# Access the video ID from the response\n",
    "response_data = response.json()\n",
    "video_id = response_data['id']"
   ]
  },
  {
   "cell_type": "code",
   "execution_count": 22,
   "id": "e05c9832-feec-4224-bb28-06dd90e58ec2",
   "metadata": {},
   "outputs": [
    {
     "name": "stdout",
     "output_type": "stream",
     "text": [
      "Video ID: 631616278511407\n"
     ]
    }
   ],
   "source": [
    "# Print the video ID\n",
    "print(f\"Video ID: {video_id}\")"
   ]
  },
  {
   "cell_type": "code",
   "execution_count": 29,
   "id": "6a0d6380-ca4b-4f3d-8c58-231fcac67ca4",
   "metadata": {},
   "outputs": [
    {
     "data": {
      "text/plain": [
       "'mp4'"
      ]
     },
     "execution_count": 29,
     "metadata": {},
     "output_type": "execute_result"
    }
   ],
   "source": [
    "\"abc.mp4\"[-3:]"
   ]
  },
  {
   "cell_type": "code",
   "execution_count": 9,
   "id": "5e4694f0-8ae6-47b1-84c0-e31d3e42531e",
   "metadata": {},
   "outputs": [
    {
     "data": {
      "text/plain": [
       "{'id': '178248481844693', 'post_id': '112234421776539_178248498511358'}"
      ]
     },
     "execution_count": 9,
     "metadata": {},
     "output_type": "execute_result"
    }
   ],
   "source": [
    "ret"
   ]
  },
  {
   "cell_type": "code",
   "execution_count": 10,
   "id": "bb1ee4a0-f526-4ead-abb5-feb277a911d4",
   "metadata": {},
   "outputs": [
    {
     "ename": "KeyError",
     "evalue": "'link'",
     "output_type": "error",
     "traceback": [
      "\u001b[1;31m---------------------------------------------------------------------------\u001b[0m",
      "\u001b[1;31mKeyError\u001b[0m                                  Traceback (most recent call last)",
      "Cell \u001b[1;32mIn[10], line 1\u001b[0m\n\u001b[1;32m----> 1\u001b[0m \u001b[43mret\u001b[49m\u001b[43m[\u001b[49m\u001b[38;5;124;43m'\u001b[39;49m\u001b[38;5;124;43mlink\u001b[39;49m\u001b[38;5;124;43m'\u001b[39;49m\u001b[43m]\u001b[49m\n",
      "\u001b[1;31mKeyError\u001b[0m: 'link'"
     ]
    }
   ],
   "source": [
    "ret['link']"
   ]
  },
  {
   "cell_type": "code",
   "execution_count": 13,
   "id": "d32796f4-749a-4b7f-a661-c6e2c26d2c81",
   "metadata": {},
   "outputs": [
    {
     "data": {
      "text/plain": [
       "{'id': '112234421776539_166455973023944'}"
      ]
     },
     "execution_count": 13,
     "metadata": {},
     "output_type": "execute_result"
    }
   ],
   "source": [
    "page_graph.put_object('me', 'feed', message = 'test')"
   ]
  },
  {
   "cell_type": "code",
   "execution_count": 11,
   "id": "e94de077-ae76-495a-9b53-fe15865ce51f",
   "metadata": {},
   "outputs": [],
   "source": [
    "feed = page_graph.get_connections('me', 'feed')"
   ]
  },
  {
   "cell_type": "code",
   "execution_count": 12,
   "id": "2b9c0fdf-2502-4ecb-9b51-ce21b58679f5",
   "metadata": {
    "tags": []
   },
   "outputs": [
    {
     "data": {
      "text/plain": [
       "dict_keys(['data', 'paging'])"
      ]
     },
     "execution_count": 12,
     "metadata": {},
     "output_type": "execute_result"
    }
   ],
   "source": [
    "feed.keys()"
   ]
  },
  {
   "cell_type": "code",
   "execution_count": 13,
   "id": "f9cc2c74-a7e7-4fbb-869f-c2e9e900b83e",
   "metadata": {},
   "outputs": [],
   "source": [
    "post = feed[\"data\"][0]"
   ]
  },
  {
   "cell_type": "code",
   "execution_count": 14,
   "id": "4d2e33b5-45d2-4eb7-8a42-a7bffcf3937f",
   "metadata": {},
   "outputs": [
    {
     "data": {
      "text/plain": [
       "{'created_time': '2023-05-15T23:19:36+0000',\n",
       " 'message': 'Train heading East detected at 19:19:34 on camera CN Kingston MP 19, CP Vaudreuil MP 14 (Beaconsfield) [3319] on 2023-05-15.',\n",
       " 'id': '112234421776539_178248741844667'}"
      ]
     },
     "execution_count": 14,
     "metadata": {},
     "output_type": "execute_result"
    }
   ],
   "source": [
    "post"
   ]
  },
  {
   "cell_type": "code",
   "execution_count": 58,
   "id": "b2fd93aa-6cb4-4b6d-9977-c736d92f8650",
   "metadata": {},
   "outputs": [
    {
     "data": {
      "text/plain": [
       "{'id': '108976478771894_718724319810521'}"
      ]
     },
     "execution_count": 58,
     "metadata": {},
     "output_type": "execute_result"
    }
   ],
   "source": [
    "page_graph.put_object(post[\"id\"], \"comments\", message = 'automated comment (test)')"
   ]
  },
  {
   "cell_type": "code",
   "execution_count": 67,
   "id": "81bea0c2-1dab-4603-aa5e-068233737022",
   "metadata": {},
   "outputs": [],
   "source": [
    "cam_description = {\n",
    "\t\"3373\": \"CN Kingston, Aut. 20 (Sainte-Anne-de-Bellevue side)\",\n",
    "\t\"3319\": \"CN Kingston, Aut. 20 at rue Morgan (Beaconsfield)\",\n",
    "\t\"3371\": \"CN Kingston, Aut. 20 at av. Oakville (Gare Pine Beach)\",\n",
    "\t\"3899\": \"CP Vaudreuil, Aut. 20 at Dorval interchange\",\n",
    "\t\"3367\": \"CN Montreal, Aut. 20 at 55e Avenue (Dorval)\",\n",
    "\t\"3399\": \"CP Vaudreuil, Aut. 13 at aut. 20 (Lachine)\",\n",
    "\t\"3814\": \"CN Montreal, Aut. 20 at boul. Angrignon (Turcot Ouest)\",\n",
    "\t\"3830\": \"CN Montreal, Route 136 (westward) at échangeur Turcot (East)\",\n",
    "\t\"3378\": \"CN St-Hyacinthe, Route 112 (east) at pont Victoria\"\n",
    "}\n",
    "num = 3378"
   ]
  },
  {
   "cell_type": "code",
   "execution_count": 69,
   "id": "119fd345-f404-449a-959d-6bd2c38d24b8",
   "metadata": {},
   "outputs": [
    {
     "data": {
      "text/plain": [
       "'CN St-Hyacinthe, Route 112 (east) at pont Victoria'"
      ]
     },
     "execution_count": 69,
     "metadata": {},
     "output_type": "execute_result"
    }
   ],
   "source": [
    "cam_description[str(num)]"
   ]
  },
  {
   "cell_type": "markdown",
   "id": "5f937499-cdde-48ba-aae9-584cb2d69c18",
   "metadata": {},
   "source": [
    "# Post in user group"
   ]
  },
  {
   "cell_type": "markdown",
   "id": "6a02d4e6-4645-4ac6-9731-64d75184a3e2",
   "metadata": {},
   "source": [
    "## Read credentials"
   ]
  },
  {
   "cell_type": "code",
   "execution_count": 23,
   "id": "70beac29-3f32-42dd-9a23-6cbd4382676a",
   "metadata": {},
   "outputs": [],
   "source": [
    "user_credentials = read_creds('user_credentials.json')\n",
    "user_graph = GraphAPI(access_token=user_credentials['access_token'])"
   ]
  },
  {
   "cell_type": "markdown",
   "id": "bd154b89-42b2-4685-b098-474d34594c87",
   "metadata": {},
   "source": [
    "## Post message in group"
   ]
  },
  {
   "cell_type": "code",
   "execution_count": 24,
   "id": "606d424a-ae6c-49ff-a9bb-a485869e3185",
   "metadata": {
    "tags": []
   },
   "outputs": [],
   "source": [
    "message = '''\n",
    "First message posted by Python into this group.\n",
    "'''\n",
    " \n",
    "link = ''\n",
    "groups = ['911280816909637']"
   ]
  },
  {
   "cell_type": "code",
   "execution_count": 25,
   "id": "de6caeca-b803-428f-84da-c2a40818ec6c",
   "metadata": {
    "tags": []
   },
   "outputs": [
    {
     "ename": "GraphAPIError",
     "evalue": "(#200) If posting to a group, requires app being installed in the group, and \\\n          either publish_to_groups permission with user token, or both pages_read_engagement \\\n          and pages_manage_posts permission with page token; If posting to a page, \\\n          requires both pages_read_engagement and pages_manage_posts as an admin with \\\n          sufficient administrative permission",
     "output_type": "error",
     "traceback": [
      "\u001b[1;31m---------------------------------------------------------------------------\u001b[0m",
      "\u001b[1;31mGraphAPIError\u001b[0m                             Traceback (most recent call last)",
      "Cell \u001b[1;32mIn[25], line 3\u001b[0m\n\u001b[0;32m      1\u001b[0m \u001b[38;5;66;03m# simple post on group page:\u001b[39;00m\n\u001b[0;32m      2\u001b[0m \u001b[38;5;66;03m# should return something like {'id': '911280816909637_912150810155971'}, with group id and _post (or object) id\u001b[39;00m\n\u001b[1;32m----> 3\u001b[0m \u001b[43muser_graph\u001b[49m\u001b[38;5;241;43m.\u001b[39;49m\u001b[43mput_object\u001b[49m\u001b[43m(\u001b[49m\u001b[43mgroups\u001b[49m\u001b[43m[\u001b[49m\u001b[38;5;241;43m0\u001b[39;49m\u001b[43m]\u001b[49m\u001b[43m,\u001b[49m\u001b[43m \u001b[49m\u001b[38;5;124;43m'\u001b[39;49m\u001b[38;5;124;43mfeed\u001b[39;49m\u001b[38;5;124;43m'\u001b[39;49m\u001b[43m,\u001b[49m\u001b[43m \u001b[49m\u001b[43mmessage\u001b[49m\u001b[43m \u001b[49m\u001b[38;5;241;43m=\u001b[39;49m\u001b[43m \u001b[49m\u001b[38;5;124;43m'\u001b[39;49m\u001b[38;5;124;43mautomated post\u001b[39;49m\u001b[38;5;124;43m'\u001b[39;49m\u001b[43m)\u001b[49m\n",
      "File \u001b[1;32m~\\AppData\\Local\\Programs\\Python\\Python310\\lib\\site-packages\\facebook\\__init__.py:189\u001b[0m, in \u001b[0;36mGraphAPI.put_object\u001b[1;34m(self, parent_object, connection_name, **data)\u001b[0m\n\u001b[0;32m    170\u001b[0m \u001b[38;5;124;03m\"\"\"Writes the given object to the graph, connected to the given parent.\u001b[39;00m\n\u001b[0;32m    171\u001b[0m \n\u001b[0;32m    172\u001b[0m \u001b[38;5;124;03mFor example,\u001b[39;00m\n\u001b[1;32m   (...)\u001b[0m\n\u001b[0;32m    186\u001b[0m \n\u001b[0;32m    187\u001b[0m \u001b[38;5;124;03m\"\"\"\u001b[39;00m\n\u001b[0;32m    188\u001b[0m \u001b[38;5;28;01massert\u001b[39;00m \u001b[38;5;28mself\u001b[39m\u001b[38;5;241m.\u001b[39maccess_token, \u001b[38;5;124m\"\u001b[39m\u001b[38;5;124mWrite operations require an access token\u001b[39m\u001b[38;5;124m\"\u001b[39m\n\u001b[1;32m--> 189\u001b[0m \u001b[38;5;28;01mreturn\u001b[39;00m \u001b[38;5;28;43mself\u001b[39;49m\u001b[38;5;241;43m.\u001b[39;49m\u001b[43mrequest\u001b[49m\u001b[43m(\u001b[49m\n\u001b[0;32m    190\u001b[0m \u001b[43m    \u001b[49m\u001b[38;5;124;43m\"\u001b[39;49m\u001b[38;5;132;43;01m{0}\u001b[39;49;00m\u001b[38;5;124;43m/\u001b[39;49m\u001b[38;5;132;43;01m{1}\u001b[39;49;00m\u001b[38;5;124;43m/\u001b[39;49m\u001b[38;5;132;43;01m{2}\u001b[39;49;00m\u001b[38;5;124;43m\"\u001b[39;49m\u001b[38;5;241;43m.\u001b[39;49m\u001b[43mformat\u001b[49m\u001b[43m(\u001b[49m\u001b[38;5;28;43mself\u001b[39;49m\u001b[38;5;241;43m.\u001b[39;49m\u001b[43mversion\u001b[49m\u001b[43m,\u001b[49m\u001b[43m \u001b[49m\u001b[43mparent_object\u001b[49m\u001b[43m,\u001b[49m\u001b[43m \u001b[49m\u001b[43mconnection_name\u001b[49m\u001b[43m)\u001b[49m\u001b[43m,\u001b[49m\n\u001b[0;32m    191\u001b[0m \u001b[43m    \u001b[49m\u001b[43mpost_args\u001b[49m\u001b[38;5;241;43m=\u001b[39;49m\u001b[43mdata\u001b[49m\u001b[43m,\u001b[49m\n\u001b[0;32m    192\u001b[0m \u001b[43m    \u001b[49m\u001b[43mmethod\u001b[49m\u001b[38;5;241;43m=\u001b[39;49m\u001b[38;5;124;43m\"\u001b[39;49m\u001b[38;5;124;43mPOST\u001b[39;49m\u001b[38;5;124;43m\"\u001b[39;49m\u001b[43m,\u001b[49m\n\u001b[0;32m    193\u001b[0m \u001b[43m\u001b[49m\u001b[43m)\u001b[49m\n",
      "File \u001b[1;32m~\\AppData\\Local\\Programs\\Python\\Python310\\lib\\site-packages\\facebook\\__init__.py:313\u001b[0m, in \u001b[0;36mGraphAPI.request\u001b[1;34m(self, path, args, post_args, files, method)\u001b[0m\n\u001b[0;32m    310\u001b[0m     \u001b[38;5;28;01mraise\u001b[39;00m GraphAPIError(\u001b[38;5;124m\"\u001b[39m\u001b[38;5;124mMaintype was not text, image, or querystring\u001b[39m\u001b[38;5;124m\"\u001b[39m)\n\u001b[0;32m    312\u001b[0m \u001b[38;5;28;01mif\u001b[39;00m result \u001b[38;5;129;01mand\u001b[39;00m \u001b[38;5;28misinstance\u001b[39m(result, \u001b[38;5;28mdict\u001b[39m) \u001b[38;5;129;01mand\u001b[39;00m result\u001b[38;5;241m.\u001b[39mget(\u001b[38;5;124m\"\u001b[39m\u001b[38;5;124merror\u001b[39m\u001b[38;5;124m\"\u001b[39m):\n\u001b[1;32m--> 313\u001b[0m     \u001b[38;5;28;01mraise\u001b[39;00m GraphAPIError(result)\n\u001b[0;32m    314\u001b[0m \u001b[38;5;28;01mreturn\u001b[39;00m result\n",
      "\u001b[1;31mGraphAPIError\u001b[0m: (#200) If posting to a group, requires app being installed in the group, and \\\n          either publish_to_groups permission with user token, or both pages_read_engagement \\\n          and pages_manage_posts permission with page token; If posting to a page, \\\n          requires both pages_read_engagement and pages_manage_posts as an admin with \\\n          sufficient administrative permission"
     ]
    }
   ],
   "source": [
    "# simple post on group page:\n",
    "# should return something like {'id': '911280816909637_912150810155971'}, with group id and _post (or object) id\n",
    "user_graph.put_object(groups[0], 'feed', message = 'automated post')"
   ]
  },
  {
   "cell_type": "markdown",
   "id": "8b2bea68-6c09-4b1c-84a0-781fb2b32ec1",
   "metadata": {
    "tags": []
   },
   "source": [
    "## Post image in group"
   ]
  },
  {
   "cell_type": "code",
   "execution_count": 200,
   "id": "9319eee4-d7c1-4b21-9a97-984f956abb0b",
   "metadata": {
    "tags": []
   },
   "outputs": [
    {
     "data": {
      "text/plain": [
       "{'id': '103811172585688', 'post_id': '911280816909637_912987423405643'}"
      ]
     },
     "execution_count": 200,
     "metadata": {},
     "output_type": "execute_result"
    }
   ],
   "source": [
    "# post image to group based on URL:\n",
    "user_graph.put_object(groups[0], 'photos', url = 'https://imgur.com/AuyjIgW.jpg')"
   ]
  },
  {
   "cell_type": "code",
   "execution_count": 13,
   "id": "b0eb49b0-6543-4aab-bc46-9716c2e21093",
   "metadata": {
    "tags": []
   },
   "outputs": [
    {
     "data": {
      "text/plain": [
       "{'created_time': '2022-12-13T01:25:14+0000',\n",
       " 'id': '911280816909637_912987423405643'}"
      ]
     },
     "execution_count": 13,
     "metadata": {},
     "output_type": "execute_result"
    }
   ],
   "source": [
    "# get content of post\n",
    "user_graph.get_object('911280816909637_912987423405643')"
   ]
  },
  {
   "cell_type": "code",
   "execution_count": 205,
   "id": "ad57e928-ab4a-4110-95bc-7d7d929a6400",
   "metadata": {
    "collapsed": true,
    "jupyter": {
     "outputs_hidden": true
    },
    "tags": []
   },
   "outputs": [
    {
     "ename": "GraphAPIError",
     "evalue": "(#324) Requires upload file",
     "output_type": "error",
     "traceback": [
      "\u001b[1;31m---------------------------------------------------------------------------\u001b[0m",
      "\u001b[1;31mGraphAPIError\u001b[0m                             Traceback (most recent call last)",
      "Cell \u001b[1;32mIn[205], line 1\u001b[0m\n\u001b[1;32m----> 1\u001b[0m \u001b[43muser_graph\u001b[49m\u001b[38;5;241;43m.\u001b[39;49m\u001b[43mput_object\u001b[49m\u001b[43m(\u001b[49m\u001b[43mgroups\u001b[49m\u001b[43m[\u001b[49m\u001b[38;5;241;43m0\u001b[39;49m\u001b[43m]\u001b[49m\u001b[43m,\u001b[49m\u001b[43m \u001b[49m\u001b[38;5;124;43m'\u001b[39;49m\u001b[38;5;124;43mphotos\u001b[39;49m\u001b[38;5;124;43m'\u001b[39;49m\u001b[43m,\u001b[49m\u001b[43m \u001b[49m\u001b[43mimage\u001b[49m\u001b[43m \u001b[49m\u001b[38;5;241;43m=\u001b[39;49m\u001b[43m \u001b[49m\u001b[38;5;28;43mopen\u001b[39;49m\u001b[43m(\u001b[49m\u001b[43mimage_location\u001b[49m\u001b[43m,\u001b[49m\u001b[43m \u001b[49m\u001b[38;5;124;43m\"\u001b[39;49m\u001b[38;5;124;43mrb\u001b[39;49m\u001b[38;5;124;43m\"\u001b[39;49m\u001b[43m)\u001b[49m\u001b[43m)\u001b[49m\n",
      "File \u001b[1;32m~\\AppData\\Local\\Programs\\Python\\Python310\\lib\\site-packages\\facebook\\__init__.py:189\u001b[0m, in \u001b[0;36mGraphAPI.put_object\u001b[1;34m(self, parent_object, connection_name, **data)\u001b[0m\n\u001b[0;32m    170\u001b[0m \u001b[38;5;124;03m\"\"\"Writes the given object to the graph, connected to the given parent.\u001b[39;00m\n\u001b[0;32m    171\u001b[0m \n\u001b[0;32m    172\u001b[0m \u001b[38;5;124;03mFor example,\u001b[39;00m\n\u001b[1;32m   (...)\u001b[0m\n\u001b[0;32m    186\u001b[0m \n\u001b[0;32m    187\u001b[0m \u001b[38;5;124;03m\"\"\"\u001b[39;00m\n\u001b[0;32m    188\u001b[0m \u001b[38;5;28;01massert\u001b[39;00m \u001b[38;5;28mself\u001b[39m\u001b[38;5;241m.\u001b[39maccess_token, \u001b[38;5;124m\"\u001b[39m\u001b[38;5;124mWrite operations require an access token\u001b[39m\u001b[38;5;124m\"\u001b[39m\n\u001b[1;32m--> 189\u001b[0m \u001b[38;5;28;01mreturn\u001b[39;00m \u001b[38;5;28;43mself\u001b[39;49m\u001b[38;5;241;43m.\u001b[39;49m\u001b[43mrequest\u001b[49m\u001b[43m(\u001b[49m\n\u001b[0;32m    190\u001b[0m \u001b[43m    \u001b[49m\u001b[38;5;124;43m\"\u001b[39;49m\u001b[38;5;132;43;01m{0}\u001b[39;49;00m\u001b[38;5;124;43m/\u001b[39;49m\u001b[38;5;132;43;01m{1}\u001b[39;49;00m\u001b[38;5;124;43m/\u001b[39;49m\u001b[38;5;132;43;01m{2}\u001b[39;49;00m\u001b[38;5;124;43m\"\u001b[39;49m\u001b[38;5;241;43m.\u001b[39;49m\u001b[43mformat\u001b[49m\u001b[43m(\u001b[49m\u001b[38;5;28;43mself\u001b[39;49m\u001b[38;5;241;43m.\u001b[39;49m\u001b[43mversion\u001b[49m\u001b[43m,\u001b[49m\u001b[43m \u001b[49m\u001b[43mparent_object\u001b[49m\u001b[43m,\u001b[49m\u001b[43m \u001b[49m\u001b[43mconnection_name\u001b[49m\u001b[43m)\u001b[49m\u001b[43m,\u001b[49m\n\u001b[0;32m    191\u001b[0m \u001b[43m    \u001b[49m\u001b[43mpost_args\u001b[49m\u001b[38;5;241;43m=\u001b[39;49m\u001b[43mdata\u001b[49m\u001b[43m,\u001b[49m\n\u001b[0;32m    192\u001b[0m \u001b[43m    \u001b[49m\u001b[43mmethod\u001b[49m\u001b[38;5;241;43m=\u001b[39;49m\u001b[38;5;124;43m\"\u001b[39;49m\u001b[38;5;124;43mPOST\u001b[39;49m\u001b[38;5;124;43m\"\u001b[39;49m\u001b[43m,\u001b[49m\n\u001b[0;32m    193\u001b[0m \u001b[43m\u001b[49m\u001b[43m)\u001b[49m\n",
      "File \u001b[1;32m~\\AppData\\Local\\Programs\\Python\\Python310\\lib\\site-packages\\facebook\\__init__.py:313\u001b[0m, in \u001b[0;36mGraphAPI.request\u001b[1;34m(self, path, args, post_args, files, method)\u001b[0m\n\u001b[0;32m    310\u001b[0m     \u001b[38;5;28;01mraise\u001b[39;00m GraphAPIError(\u001b[38;5;124m\"\u001b[39m\u001b[38;5;124mMaintype was not text, image, or querystring\u001b[39m\u001b[38;5;124m\"\u001b[39m)\n\u001b[0;32m    312\u001b[0m \u001b[38;5;28;01mif\u001b[39;00m result \u001b[38;5;129;01mand\u001b[39;00m \u001b[38;5;28misinstance\u001b[39m(result, \u001b[38;5;28mdict\u001b[39m) \u001b[38;5;129;01mand\u001b[39;00m result\u001b[38;5;241m.\u001b[39mget(\u001b[38;5;124m\"\u001b[39m\u001b[38;5;124merror\u001b[39m\u001b[38;5;124m\"\u001b[39m):\n\u001b[1;32m--> 313\u001b[0m     \u001b[38;5;28;01mraise\u001b[39;00m GraphAPIError(result)\n\u001b[0;32m    314\u001b[0m \u001b[38;5;28;01mreturn\u001b[39;00m result\n",
      "\u001b[1;31mGraphAPIError\u001b[0m: (#324) Requires upload file"
     ]
    }
   ],
   "source": [
    "user_graph.put_object(groups[0], 'photos', image = open(image_location, \"rb\"))"
   ]
  },
  {
   "cell_type": "code",
   "execution_count": 206,
   "id": "d573620a-527d-4000-a832-7b2785d00410",
   "metadata": {
    "tags": []
   },
   "outputs": [
    {
     "data": {
      "text/plain": [
       "{'data': [{'updated_time': '2022-12-13T01:25:15+0000',\n",
       "   'id': '911280816909637_912987423405643'},\n",
       "  {'updated_time': '2022-12-13T01:25:09+0000',\n",
       "   'message': 'automated post',\n",
       "   'id': '911280816909637_912987280072324'},\n",
       "  {'updated_time': '2022-12-12T01:23:10+0000',\n",
       "   'id': '911280816909637_912168876820831'},\n",
       "  {'updated_time': '2022-12-12T01:20:40+0000',\n",
       "   'id': '911280816909637_912167623487623'},\n",
       "  {'updated_time': '2022-12-12T01:11:50+0000',\n",
       "   'message': 'automated post',\n",
       "   'id': '911280816909637_912162823488103'},\n",
       "  {'updated_time': '2022-12-12T00:48:54+0000',\n",
       "   'message': 'automated post',\n",
       "   'id': '911280816909637_912150810155971'},\n",
       "  {'updated_time': '2022-12-11T23:36:17+0000',\n",
       "   'message': 'sample caption',\n",
       "   'id': '911280816909637_912114740159578'},\n",
       "  {'updated_time': '2022-12-11T23:24:59+0000',\n",
       "   'message': 'First message posted by Python into this group.',\n",
       "   'id': '911280816909637_912109323493453'},\n",
       "  {'updated_time': '2022-12-11T20:19:06+0000',\n",
       "   'message': 'Sandbox to experiment with automated train sightings based on traffic camera footage from https://www.quebec511.info/',\n",
       "   'id': '911280816909637_912017333502652'},\n",
       "  {'updated_time': '2022-12-11T20:15:34+0000',\n",
       "   'id': '911280816909637_912015016836217'},\n",
       "  {'updated_time': '2022-12-10T23:43:51+0000',\n",
       "   'id': '911280816909637_911280823576303'}],\n",
       " 'paging': {'previous': 'https://graph.facebook.com/v15.0/911280816909637/feed?access_token=EAAPXmTUxOwsBAMmHhzRvdZCQO1wX8w4VOZCYOuGXdQAp3pSpLkFgyEMYJPoQYPAXnQFE0rnjY1vzG9gvOhkMuG9mN1ykJDOnynFI9ZAC7f0VX0qNUMX3ZCZAlLx3yNjR4ORZChbPz5mEZARIz5p9dGOl8ZBcf6ZCfugc66RVZCICmhyW0J704HJxu4&__previous=1&since=1670894715&until&__paging_token=enc_AdDH6NZBZA9p4cEJkIGyEndyR1dOdruD3g0akrrcVWBtmVLXW9C8nOZCs3xXY9dG75TNOcbMudZBZC78nZCBR1TdNh89qZAR0878uvn8gZB27fR8CTfwapowvbj9MZARg7szqZCZBc6BpboTdq47KqA2H1HORDDKngW',\n",
       "  'next': 'https://graph.facebook.com/v15.0/911280816909637/feed?access_token=EAAPXmTUxOwsBAMmHhzRvdZCQO1wX8w4VOZCYOuGXdQAp3pSpLkFgyEMYJPoQYPAXnQFE0rnjY1vzG9gvOhkMuG9mN1ykJDOnynFI9ZAC7f0VX0qNUMX3ZCZAlLx3yNjR4ORZChbPz5mEZARIz5p9dGOl8ZBcf6ZCfugc66RVZCICmhyW0J704HJxu4&until=1670715831&since&__paging_token=enc_AdDLMrsbLk7lfnBssbzn4MvarAcp11aDV1aDZCLQbg5NURUKLpSO35ZAMHRtzeLidI0cxt2xWCCudKCRZB65jFO4m2yv76QJ0fzLFpAnvjli5iCTJCvPUsPSez9Ubr5o3WAITij230VOZCNLuvZBQGU0bgNBB&__previous'}}"
      ]
     },
     "execution_count": 206,
     "metadata": {},
     "output_type": "execute_result"
    }
   ],
   "source": [
    "user_graph.get_connections(group, 'feed')"
   ]
  },
  {
   "cell_type": "markdown",
   "id": "dc1b8442-b018-4415-a684-940d3b67bb15",
   "metadata": {
    "jp-MarkdownHeadingCollapsed": true,
    "tags": []
   },
   "source": [
    "# Instagram Graph API Access"
   ]
  },
  {
   "cell_type": "code",
   "execution_count": 215,
   "id": "d04009fe-c4ad-4e4d-aa3c-988bdeab14cb",
   "metadata": {},
   "outputs": [],
   "source": [
    "import json, requests, datetime"
   ]
  },
  {
   "cell_type": "code",
   "execution_count": 216,
   "id": "49a5d5df-dc29-488b-aed5-7803cd0ac4d8",
   "metadata": {},
   "outputs": [],
   "source": [
    "def getCreds():\n",
    "    creds = dict()\n",
    "    creds['access_token'] = 'EAAPXmTUxOwsBAMmHhzRvdZCQO1wX8w4VOZCYOuGXdQAp3pSpLkFgyEMYJPoQYPAXnQFE0rnjY1vzG9gvOhkMuG9mN1ykJDOnynFI9ZAC7f0VX0qNUMX3ZCZAlLx3yNjR4ORZChbPz5mEZARIz5p9dGOl8ZBcf6ZCfugc66RVZCICmhyW0J704HJxu4'\n",
    "    creds['client_id'] = '1081477952518923'\n",
    "    creds['client_secret'] = '7afa4157818e830cbda66a896017f977'\n",
    "    creds['graph_domain'] = 'https://graph.facebook.com/'\n",
    "    creds['graph_version'] = 'v15.0'\n",
    "    creds['endpoint_base'] = creds['graph_domain'] + creds['graph_version']  + '/'\n",
    "    creds['debug'] = 'no'\n",
    "    \n",
    "    return creds"
   ]
  },
  {
   "cell_type": "code",
   "execution_count": 227,
   "id": "705558df-6043-4a29-9bf2-92081f85c121",
   "metadata": {},
   "outputs": [],
   "source": [
    "def makeApiCall(url, endpointParams, debug = 'no'):\n",
    "    data = requests.get(url, endpointParams)\n",
    "    \n",
    "    response = dict()\n",
    "    response['url'] = url\n",
    "    response['endpoint_params'] = endpointParams\n",
    "    response['endpoint_params_pretty'] = json.dumps(endpointParams, indent = 4)\n",
    "    response['json_data'] = json.loads(data.content)\n",
    "    response['json_data_pretty'] = json.dumps(response['json_data'], indent = 4)\n",
    "    \n",
    "    if (debug == 'yes'):\n",
    "        displayApiCallData(response)\n",
    "        \n",
    "    return response"
   ]
  },
  {
   "cell_type": "code",
   "execution_count": 228,
   "id": "1f2a911a-5648-4165-b705-cd9db899e1f1",
   "metadata": {},
   "outputs": [],
   "source": [
    "def displayApiCallData(response):\n",
    "    print(\"\\nURL: \")\n",
    "    print(response['url'])\n",
    "    print(\"\\nEndpoint Params: \")\n",
    "    print(response['endpoint_params_pretty'])\n",
    "    print(\"\\nResponse:\")\n",
    "    print(response['json_data_pretty'])"
   ]
  },
  {
   "cell_type": "code",
   "execution_count": 229,
   "id": "2bfbfa02-71ce-4440-8093-5e603487a54b",
   "metadata": {},
   "outputs": [],
   "source": [
    "def debugAccessToken(params):\n",
    "    endpointParams = dict()\n",
    "    endpointParams['input_token'] = params['access_token']\n",
    "    endpointParams['access_token'] = params['access_token']\n",
    "    \n",
    "    url = params['graph_domain'] + '/debug_token'\n",
    "    \n",
    "    return makeApiCall(url, endpointParams, params['debug'])"
   ]
  },
  {
   "cell_type": "code",
   "execution_count": 230,
   "id": "7c130b4c-3a9a-489a-b15b-2c318ad18c20",
   "metadata": {},
   "outputs": [],
   "source": [
    "params = getCreds()\n",
    "params['debug'] = 'yes'"
   ]
  },
  {
   "cell_type": "code",
   "execution_count": 231,
   "id": "476e1b68-26cc-4b33-a242-ddd7ea7805da",
   "metadata": {},
   "outputs": [
    {
     "data": {
      "text/plain": [
       "{'access_token': 'EAAPXmTUxOwsBAMmHhzRvdZCQO1wX8w4VOZCYOuGXdQAp3pSpLkFgyEMYJPoQYPAXnQFE0rnjY1vzG9gvOhkMuG9mN1ykJDOnynFI9ZAC7f0VX0qNUMX3ZCZAlLx3yNjR4ORZChbPz5mEZARIz5p9dGOl8ZBcf6ZCfugc66RVZCICmhyW0J704HJxu4',\n",
       " 'client_id': '1081477952518923',\n",
       " 'client_secret': '7afa4157818e830cbda66a896017f977',\n",
       " 'graph_domain': 'https://graph.facebook.com/',\n",
       " 'graph_version': 'v15.0',\n",
       " 'endpoint_base': 'https://graph.facebook.com/v15.0/',\n",
       " 'debug': 'yes'}"
      ]
     },
     "execution_count": 231,
     "metadata": {},
     "output_type": "execute_result"
    }
   ],
   "source": [
    "params"
   ]
  },
  {
   "cell_type": "code",
   "execution_count": 232,
   "id": "dfe8f2f3-e953-43bb-afa7-3b610a7a3b35",
   "metadata": {},
   "outputs": [
    {
     "name": "stdout",
     "output_type": "stream",
     "text": [
      "\n",
      "URL: \n",
      "https://graph.facebook.com//debug_token\n",
      "\n",
      "Endpoint Params: \n",
      "{\n",
      "    \"input_token\": \"EAAPXmTUxOwsBAMmHhzRvdZCQO1wX8w4VOZCYOuGXdQAp3pSpLkFgyEMYJPoQYPAXnQFE0rnjY1vzG9gvOhkMuG9mN1ykJDOnynFI9ZAC7f0VX0qNUMX3ZCZAlLx3yNjR4ORZChbPz5mEZARIz5p9dGOl8ZBcf6ZCfugc66RVZCICmhyW0J704HJxu4\",\n",
      "    \"access_token\": \"EAAPXmTUxOwsBAMmHhzRvdZCQO1wX8w4VOZCYOuGXdQAp3pSpLkFgyEMYJPoQYPAXnQFE0rnjY1vzG9gvOhkMuG9mN1ykJDOnynFI9ZAC7f0VX0qNUMX3ZCZAlLx3yNjR4ORZChbPz5mEZARIz5p9dGOl8ZBcf6ZCfugc66RVZCICmhyW0J704HJxu4\"\n",
      "}\n",
      "\n",
      "Response:\n",
      "{\n",
      "    \"data\": {\n",
      "        \"app_id\": \"1081477952518923\",\n",
      "        \"type\": \"USER\",\n",
      "        \"application\": \"post-train-observation\",\n",
      "        \"data_access_expires_at\": 1678670653,\n",
      "        \"expires_at\": 0,\n",
      "        \"is_valid\": true,\n",
      "        \"issued_at\": 1670806661,\n",
      "        \"scopes\": [\n",
      "            \"user_photos\",\n",
      "            \"user_videos\",\n",
      "            \"user_posts\",\n",
      "            \"publish_video\",\n",
      "            \"groups_show_list\",\n",
      "            \"pages_show_list\",\n",
      "            \"pages_messaging\",\n",
      "            \"instagram_basic\",\n",
      "            \"instagram_manage_comments\",\n",
      "            \"instagram_content_publish\",\n",
      "            \"publish_to_groups\",\n",
      "            \"pages_read_engagement\",\n",
      "            \"pages_manage_metadata\",\n",
      "            \"pages_read_user_content\",\n",
      "            \"pages_manage_posts\",\n",
      "            \"public_profile\"\n",
      "        ],\n",
      "        \"granular_scopes\": [\n",
      "            {\n",
      "                \"scope\": \"groups_show_list\"\n",
      "            },\n",
      "            {\n",
      "                \"scope\": \"pages_show_list\"\n",
      "            },\n",
      "            {\n",
      "                \"scope\": \"pages_messaging\"\n",
      "            },\n",
      "            {\n",
      "                \"scope\": \"instagram_basic\"\n",
      "            },\n",
      "            {\n",
      "                \"scope\": \"instagram_manage_comments\"\n",
      "            },\n",
      "            {\n",
      "                \"scope\": \"instagram_content_publish\"\n",
      "            },\n",
      "            {\n",
      "                \"scope\": \"publish_to_groups\"\n",
      "            },\n",
      "            {\n",
      "                \"scope\": \"pages_read_engagement\"\n",
      "            },\n",
      "            {\n",
      "                \"scope\": \"pages_manage_metadata\"\n",
      "            },\n",
      "            {\n",
      "                \"scope\": \"pages_read_user_content\"\n",
      "            },\n",
      "            {\n",
      "                \"scope\": \"pages_manage_posts\"\n",
      "            }\n",
      "        ],\n",
      "        \"user_id\": \"102517809381691\"\n",
      "    }\n",
      "}\n"
     ]
    }
   ],
   "source": [
    "response = debugAccessToken(params)"
   ]
  },
  {
   "cell_type": "code",
   "execution_count": null,
   "id": "a7a7f799-eb4d-4318-ab07-38c2b64e4826",
   "metadata": {},
   "outputs": [],
   "source": []
  }
 ],
 "metadata": {
  "kernelspec": {
   "display_name": "Python 3 (ipykernel)",
   "language": "python",
   "name": "python3"
  },
  "language_info": {
   "codemirror_mode": {
    "name": "ipython",
    "version": 3
   },
   "file_extension": ".py",
   "mimetype": "text/x-python",
   "name": "python",
   "nbconvert_exporter": "python",
   "pygments_lexer": "ipython3",
   "version": "3.10.8"
  }
 },
 "nbformat": 4,
 "nbformat_minor": 5
}
