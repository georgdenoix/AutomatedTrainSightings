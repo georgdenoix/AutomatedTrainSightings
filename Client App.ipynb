{
 "cells": [
  {
   "cell_type": "code",
   "execution_count": 27,
   "id": "30b26d67-7d8b-4bae-844d-55c25f889377",
   "metadata": {},
   "outputs": [
    {
     "name": "stdout",
     "output_type": "stream",
     "text": [
      "Connected to the server\n"
     ]
    },
    {
     "name": "stdin",
     "output_type": "stream",
     "text": [
      "Enter a message:  And again!\n"
     ]
    },
    {
     "name": "stdout",
     "output_type": "stream",
     "text": [
      "Response: Hello, client! You sent me: And again!\n"
     ]
    }
   ],
   "source": [
    "import socket, logging\n",
    "\n",
    "# Create a socket object\n",
    "client_socket = socket.socket(socket.AF_INET, socket.SOCK_STREAM)\n",
    "\n",
    "# Add logging\n",
    "log = logging.getLogger(__name__)\n",
    "\n",
    "# Define the server's host and port\n",
    "host = '127.0.0.1'  # localhost\n",
    "port = 12345\n",
    "\n",
    "# Connect to the server\n",
    "client_socket.connect((host, port))\n",
    "print('Connected to the server')\n",
    "\n",
    "# Send data to the server and receive the response\n",
    "try:\n",
    "    while True:\n",
    "        message = input('Enter a message: ')\n",
    "        client_socket.send(message.encode())\n",
    "        if message.lower() == 'quit':\n",
    "            break\n",
    "        response = client_socket.recv(1024).decode()\n",
    "        print('Response:', response)\n",
    "except KeyboardInterrupt:\n",
    "    pass\n",
    "\n",
    "# Close the connection\n",
    "client_socket.close()"
   ]
  },
  {
   "cell_type": "code",
   "execution_count": null,
   "id": "fcf48022-f72f-4958-a725-321e50d86e23",
   "metadata": {},
   "outputs": [],
   "source": []
  }
 ],
 "metadata": {
  "kernelspec": {
   "display_name": "Python 3 (ipykernel)",
   "language": "python",
   "name": "python3"
  },
  "language_info": {
   "codemirror_mode": {
    "name": "ipython",
    "version": 3
   },
   "file_extension": ".py",
   "mimetype": "text/x-python",
   "name": "python",
   "nbconvert_exporter": "python",
   "pygments_lexer": "ipython3",
   "version": "3.10.8"
  }
 },
 "nbformat": 4,
 "nbformat_minor": 5
}
